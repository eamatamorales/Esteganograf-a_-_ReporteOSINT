{
 "cells": [
  {
   "cell_type": "markdown",
   "metadata": {},
   "source": [
    "# Laboratorio de Esteganografía con OpenCV\n",
    "\n",
    "**Curso:** CY-203 Hackeo Ético  \n",
    "**Tema:** Ocultamiento de imágenes usando LSB (Least Significant Bit)  \n",
    "**Objetivo:** Ocultar una imagen dentro de otra utilizando manipulación de bits con OpenCV.\n",
    "\n",
    "\n",
    "## ¿Cómo funciona el ocultamiento usando 4 bits? (LSB Esteganografía)\n",
    "\n",
    "En una imagen digital en color (formato RGB), cada color se representa con **8 bits** por canal, es decir, un valor entre 0 y 255. Por ejemplo:\n",
    "\n",
    "```\n",
    "Pixel RGB = [R, G, B] = [11001010, 10100110, 10011011]  (en binario)\n",
    "```\n",
    "\n",
    "### Estrategia\n",
    "\n",
    "1. **Tomamos los 4 bits más significativos** de cada color de la imagen secreta.\n",
    "2. **Los insertamos en los 4 bits menos significativos** de la imagen portadora.\n",
    "\n",
    "Esto produce un cambio sutil en la imagen visible, pero guarda los datos ocultos.\n",
    "\n",
    "### Ejemplo paso a paso\n",
    "\n",
    "Supongamos que tenemos:\n",
    "\n",
    "- **Canal azul** de la imagen portadora:\n",
    "  ```\n",
    "  cover_pixel_blue = 11001010\n",
    "  ```\n",
    "\n",
    "- **Canal azul** de la imagen secreta:\n",
    "  ```\n",
    "  secret_pixel_blue = 10110101\n",
    "  ```\n",
    "\n",
    "#### Paso 1: Limpiar los 4 bits menos importantes de la portada\n",
    "```python\n",
    "cover_clean = cover_pixel_blue & 0b11110000  # 11000000\n",
    "```\n",
    "\n",
    "#### Paso 2: Tomar los 4 bits más importantes de la secreta\n",
    "```python\n",
    "secret_bits = secret_pixel_blue >> 4         # 00001011\n",
    "```\n",
    "\n",
    "#### Paso 3: Combinar ambos valores\n",
    "```python\n",
    "stego_pixel = cover_clean | secret_bits      # 11001011\n",
    "```\n",
    "\n",
    "Este valor es el nuevo píxel camuflado.\n",
    "\n",
    "---\n",
    "\n",
    "### ¿Por qué usar solo 4 bits?\n",
    "\n",
    "- **Invisibilidad:** Cambiar 4 bits tiene un impacto visual casi imperceptible.\n",
    "- **Capacidad razonable:** Se pueden ocultar 12 bits por píxel (4 por canal RGB).\n",
    "- **Compatibilidad:** Funciona bien incluso en imágenes comprimidas sin pérdida (como PNG).\n",
    "\n",
    "---\n",
    "\n",
    "### ¿Cómo se recupera la imagen secreta?\n",
    "\n",
    "1. Extraemos los **4 bits menos significativos** del píxel camuflado:\n",
    "   ```python\n",
    "   hidden_bits = stego_pixel & 0b00001111\n",
    "   ```\n",
    "\n",
    "2. Los convertimos de vuelta a los bits más significativos:\n",
    "   ```python\n",
    "   recovered = hidden_bits << 4\n",
    "   ```\n",
    "\n",
    "Esto da una versión degradada pero visible de la imagen secreta.\n",
    "\n",
    "---\n",
    "\n",
    "### Visualización del proceso\n",
    "\n",
    "| Etapa               | Valor binario del canal azul |\n",
    "|---------------------|-------------------------------|\n",
    "| Imagen Portadora    | `11001010`                    |\n",
    "| Imagen Secreta      | `10110101`                    |\n",
    "| Imagen Camuflada    | `11001011`                    |\n",
    "| Bits Extraídos      | `00001011` << 4 = `10110000`  |\n"
   ]
  },
  {
   "cell_type": "code",
   "execution_count": null,
   "metadata": {},
   "outputs": [],
   "source": [
    "# Requisitos\n",
    "%pip install opencv-python matplotlib numpy"
   ]
  },
  {
   "cell_type": "markdown",
   "metadata": {},
   "source": [
    "## 1. Importar librerías y cargar imágenes"
   ]
  },
  {
   "cell_type": "code",
   "execution_count": null,
   "metadata": {},
   "outputs": [],
   "source": [
    "import cv2\n",
    "import numpy as np\n",
    "import matplotlib.pyplot as plt\n",
    "\n",
    "def show(img, title=\"Imagen\"):\n",
    "    plt.imshow(cv2.cvtColor(img, cv2.COLOR_BGR2RGB))\n",
    "    plt.title(title)\n",
    "    plt.axis('off')\n",
    "    plt.show()\n",
    "\n",
    "# Cargar imagen portada y mensaje\n",
    "cover = cv2.imread('cover.png')\n",
    "secret = cv2.imread('secret.png')\n",
    "\n",
    "# Redimensionar imagen secreta al tamaño de la portada\n",
    "secret = cv2.resize(secret, (cover.shape[1], cover.shape[0]))\n",
    "\n",
    "show(cover, \"Imagen Portadora\")\n",
    "show(secret, \"Imagen Secreta a Ocultar\")"
   ]
  },
  {
   "cell_type": "markdown",
   "metadata": {},
   "source": [
    "## 2. Preparar las imágenes para ocultamiento\n",
    "Usamos los 4 bits más significativos de la imagen portadora y los 4 más significativos del mensaje secreto."
   ]
  },
  {
   "cell_type": "code",
   "execution_count": null,
   "metadata": {},
   "outputs": [],
   "source": [
    "# Convertimos los valores a 8 bits (0-255)\n",
    "cover_bits = (cover >> 4) << 4         # Limpiamos los 4 bits menos significativos\n",
    "secret_bits = secret >> 4              # Tomamos los 4 bits más significativos\n",
    "\n",
    "# Ocultamos la imagen\n",
    "stego = cover_bits | secret_bits\n",
    "\n",
    "show(stego, \"Imagen con Mensaje Oculto\")\n",
    "cv2.imwrite(\"stego_result.png\", stego)"
   ]
  },
  {
   "cell_type": "markdown",
   "metadata": {},
   "source": [
    "## 3. Extraer el mensaje oculto desde la imagen esteganográfica"
   ]
  },
  {
   "cell_type": "code",
   "execution_count": null,
   "metadata": {},
   "outputs": [],
   "source": [
    "# Extraemos los 4 bits menos significativos (donde está el mensaje)\n",
    "extracted = (stego & 0b00001111) << 4  # Restauramos a 8 bits\n",
    "show(extracted, \"Imagen Oculta Recuperada\")\n",
    "cv2.imwrite(\"recovered_secret.png\", extracted)"
   ]
  },
  {
   "cell_type": "markdown",
   "metadata": {},
   "source": [
    "## 4. Conclusión\n",
    "Este laboratorio demuestra cómo la manipulación directa de bits permite ocultar información visual en otra imagen sin alterar notablemente la portada.\n",
    "- Esta técnica es **vulnerable** a compresión y filtrado.\n",
    "- No requiere clave secreta: es una forma de **esteganografía pura**.\n",
    "- Puede extenderse a múltiples capas (8 bits, canales individuales, etc.).\n",
    "\n",
    "**Aplicación real:** Espías, periodistas, activistas o malware podrían usar este método para ocultar datos en imágenes aparentemente inocuas."
   ]
  }
 ],
 "metadata": {
  "kernelspec": {
   "display_name": "Python 3",
   "language": "python",
   "name": "python3"
  },
  "language_info": {
   "codemirror_mode": {
    "name": "ipython",
    "version": 3
   },
   "file_extension": ".py",
   "mimetype": "text/x-python",
   "name": "python",
   "nbconvert_exporter": "python",
   "pygments_lexer": "ipython3",
   "version": "3.10.8"
  }
 },
 "nbformat": 4,
 "nbformat_minor": 5
}
